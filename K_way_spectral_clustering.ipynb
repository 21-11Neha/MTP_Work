{
 "cells": [
  {
   "cell_type": "code",
   "execution_count": 49,
   "id": "140c16c8",
   "metadata": {},
   "outputs": [],
   "source": [
    "#import important libraries\n",
    "import numpy as np\n",
    "import matplotlib.pyplot as plt\n",
    "from sklearn.datasets import make_blobs\n",
    "import pandas as pd\n",
    "from sklearn.cluster import SpectralClustering\n",
    "#dataset=pd.read_csv(\"urbanGB.csv\")\n",
    "from numpy import genfromtxt\n",
    "dataset = genfromtxt('urbanGB.csv', delimiter=',', skip_header = 1)\n",
    "spectral_dataset=[]\n",
    "for n in range(1000):\n",
    "    spectral_dataset.append(dataset[n])\n",
    "s_dataset=np.array(spectral_dataset)"
   ]
  },
  {
   "cell_type": "code",
   "execution_count": 50,
   "id": "bf57c2b9",
   "metadata": {},
   "outputs": [],
   "source": [
    "float_formatter = lambda x: \"%.3f\" % x\n",
    "np.set_printoptions(formatter={'float_kind':float_formatter})\n",
    "from sklearn.cluster import SpectralClustering, KMeans\n",
    "from sklearn.metrics import pairwise_distances\n",
    "from matplotlib import pyplot as plt\n",
    "import networkx as nx\n",
    "import seaborn as sns\n",
    "sns.set()"
   ]
  },
  {
   "cell_type": "code",
   "execution_count": 51,
   "id": "1c71426c",
   "metadata": {},
   "outputs": [
    {
     "name": "stdout",
     "output_type": "stream",
     "text": [
      "[[1 0 0 ... 1 0 0]\n",
      " [0 1 1 ... 1 1 1]\n",
      " [0 1 1 ... 1 1 1]\n",
      " ...\n",
      " [1 1 1 ... 1 1 1]\n",
      " [0 1 1 ... 1 1 1]\n",
      " [0 1 1 ... 1 1 1]]\n"
     ]
    }
   ],
   "source": [
    "#calculating weight matrix on the basis of euclidean distance\n",
    "W = pairwise_distances(s_dataset, metric=\"euclidean\")\n",
    "vectorizer = np.vectorize(lambda x: 1 if x < 5 else 0)\n",
    "#avoiding fully connected graph\n",
    "W = np.vectorize(vectorizer)(W)\n",
    "print(W)"
   ]
  },
  {
   "cell_type": "code",
   "execution_count": 52,
   "id": "97f74616",
   "metadata": {},
   "outputs": [
    {
     "data": {
      "text/plain": [
       "array([[608,   0,   0, ...,   0,   0,   0],\n",
       "       [  0, 937,   0, ...,   0,   0,   0],\n",
       "       [  0,   0, 941, ...,   0,   0,   0],\n",
       "       ...,\n",
       "       [  0,   0,   0, ..., 945,   0,   0],\n",
       "       [  0,   0,   0, ...,   0, 923,   0],\n",
       "       [  0,   0,   0, ...,   0,   0, 938]])"
      ]
     },
     "execution_count": 52,
     "metadata": {},
     "output_type": "execute_result"
    }
   ],
   "source": [
    "# degree matrix\n",
    "D = np.diag(np.sum(W, axis=1))\n",
    "D"
   ]
  },
  {
   "cell_type": "code",
   "execution_count": 53,
   "id": "489ee87c",
   "metadata": {},
   "outputs": [
    {
     "name": "stdout",
     "output_type": "stream",
     "text": [
      "laplacian matrix:\n",
      "[[607   0   0 ...  -1   0   0]\n",
      " [  0 936  -1 ...  -1  -1  -1]\n",
      " [  0  -1 940 ...  -1  -1  -1]\n",
      " ...\n",
      " [ -1  -1  -1 ... 944  -1  -1]\n",
      " [  0  -1  -1 ...  -1 922  -1]\n",
      " [  0  -1  -1 ...  -1  -1 937]]\n"
     ]
    }
   ],
   "source": [
    "# laplacian matrix\n",
    "L = D - W\n",
    "print('laplacian matrix:')\n",
    "print(L)"
   ]
  },
  {
   "cell_type": "code",
   "execution_count": 54,
   "id": "6a7883c8",
   "metadata": {},
   "outputs": [],
   "source": [
    "e, v = np.linalg.eig(L)\n",
    "e = e.real\n",
    "v = v.real"
   ]
  },
  {
   "cell_type": "code",
   "execution_count": 55,
   "id": "99813f2d",
   "metadata": {},
   "outputs": [
    {
     "data": {
      "text/plain": [
       "(1000, 1000)"
      ]
     },
     "execution_count": 55,
     "metadata": {},
     "output_type": "execute_result"
    }
   ],
   "source": [
    "v.shape"
   ]
  },
  {
   "cell_type": "code",
   "execution_count": 56,
   "id": "df75930d",
   "metadata": {},
   "outputs": [
    {
     "data": {
      "text/plain": [
       "(4, 1000)"
      ]
     },
     "execution_count": 56,
     "metadata": {},
     "output_type": "execute_result"
    }
   ],
   "source": [
    "U=[]\n",
    "clusters=4\n",
    "for i in range(clusters):\n",
    "    U.append(v[i])\n",
    "U=np.array(U)\n",
    "U.shape"
   ]
  },
  {
   "cell_type": "code",
   "execution_count": 57,
   "id": "bdfe6a81",
   "metadata": {},
   "outputs": [
    {
     "data": {
      "text/plain": [
       "array([[0.032, -0.002, -0.002, ..., 0.000, -0.000, 0.000],\n",
       "       [0.032, 0.002, -0.002, ..., 0.000, -0.000, 0.000],\n",
       "       [0.032, 0.002, -0.002, ..., 0.000, -0.000, 0.000],\n",
       "       [0.032, 0.001, 0.000, ..., 0.000, -0.000, 0.000]])"
      ]
     },
     "execution_count": 57,
     "metadata": {},
     "output_type": "execute_result"
    }
   ],
   "source": [
    "U"
   ]
  },
  {
   "cell_type": "code",
   "execution_count": 58,
   "id": "061f31e1",
   "metadata": {},
   "outputs": [
    {
     "data": {
      "text/plain": [
       "(1000, 4)"
      ]
     },
     "execution_count": 58,
     "metadata": {},
     "output_type": "execute_result"
    }
   ],
   "source": [
    "U=U.T\n",
    "U.shape"
   ]
  },
  {
   "cell_type": "code",
   "execution_count": 59,
   "id": "0576c65c",
   "metadata": {},
   "outputs": [
    {
     "data": {
      "text/plain": [
       "array([[0.032, 0.032, 0.032, 0.032],\n",
       "       [-0.002, 0.002, 0.002, 0.001],\n",
       "       [-0.002, -0.002, -0.002, 0.000],\n",
       "       ...,\n",
       "       [0.000, 0.000, 0.000, 0.000],\n",
       "       [-0.000, -0.000, -0.000, -0.000],\n",
       "       [0.000, 0.000, 0.000, 0.000]])"
      ]
     },
     "execution_count": 59,
     "metadata": {},
     "output_type": "execute_result"
    }
   ],
   "source": [
    "U"
   ]
  },
  {
   "cell_type": "code",
   "execution_count": 60,
   "id": "9ac98f57",
   "metadata": {},
   "outputs": [],
   "source": [
    "from sklearn.cluster import KMeans\n",
    "#creating a k-means object\n",
    "k_Means_Obj=KMeans(n_clusters=4)"
   ]
  },
  {
   "cell_type": "code",
   "execution_count": 61,
   "id": "d26985cb",
   "metadata": {},
   "outputs": [],
   "source": [
    "import time\n",
    "start = time.time()\n",
    "k_Means_Obj.fit(U)\n",
    "end = time.time()"
   ]
  },
  {
   "cell_type": "code",
   "execution_count": 62,
   "id": "c4be0e6e",
   "metadata": {},
   "outputs": [],
   "source": [
    "clusters=k_Means_Obj.cluster_centers_"
   ]
  },
  {
   "cell_type": "code",
   "execution_count": 63,
   "id": "e393a360",
   "metadata": {},
   "outputs": [
    {
     "data": {
      "text/plain": [
       "array([[-0.000, 0.001, -0.001, -0.002],\n",
       "       [-0.000, 0.946, 0.000, 0.000],\n",
       "       [-0.000, -0.000, 0.972, -0.000],\n",
       "       [0.650, -0.000, -0.000, 0.000]])"
      ]
     },
     "execution_count": 63,
     "metadata": {},
     "output_type": "execute_result"
    }
   ],
   "source": [
    "clusters"
   ]
  },
  {
   "cell_type": "code",
   "execution_count": 64,
   "id": "98fe36d1",
   "metadata": {},
   "outputs": [],
   "source": [
    "final=k_Means_Obj.fit_predict(U)"
   ]
  },
  {
   "cell_type": "code",
   "execution_count": 67,
   "id": "c3f22d4b",
   "metadata": {},
   "outputs": [
    {
     "data": {
      "text/plain": [
       "(1000,)"
      ]
     },
     "execution_count": 67,
     "metadata": {},
     "output_type": "execute_result"
    }
   ],
   "source": [
    "#assigned cluster number\n",
    "final.shape"
   ]
  }
 ],
 "metadata": {
  "kernelspec": {
   "display_name": "Python 3 (ipykernel)",
   "language": "python",
   "name": "python3"
  },
  "language_info": {
   "codemirror_mode": {
    "name": "ipython",
    "version": 3
   },
   "file_extension": ".py",
   "mimetype": "text/x-python",
   "name": "python",
   "nbconvert_exporter": "python",
   "pygments_lexer": "ipython3",
   "version": "3.9.7"
  }
 },
 "nbformat": 4,
 "nbformat_minor": 5
}
