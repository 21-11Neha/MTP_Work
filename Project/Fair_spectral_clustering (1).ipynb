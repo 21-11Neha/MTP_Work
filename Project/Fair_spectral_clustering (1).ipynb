{
 "cells": [
  {
   "cell_type": "code",
   "execution_count": 1,
   "id": "2051745b",
   "metadata": {},
   "outputs": [],
   "source": [
    "#import important libraries\n",
    "import numpy as np\n",
    "import matplotlib.pyplot as plt\n",
    "from sklearn.datasets import make_blobs\n",
    "import pandas as pd\n",
    "from sklearn.cluster import SpectralClustering\n",
    "from numpy import genfromtxt\n",
    "import numpy as np\n",
    "from scipy.linalg import null_space\n",
    "from sklearn.cluster import KMeans\n",
    "import networkx as nx\n",
    "import knn\n",
    "from sklearn.covariance import graphical_lasso"
   ]
  },
  {
   "cell_type": "code",
   "execution_count": 2,
   "id": "4984fe9f",
   "metadata": {
    "scrolled": false
   },
   "outputs": [
    {
     "data": {
      "text/html": [
       "<div>\n",
       "<style scoped>\n",
       "    .dataframe tbody tr th:only-of-type {\n",
       "        vertical-align: middle;\n",
       "    }\n",
       "\n",
       "    .dataframe tbody tr th {\n",
       "        vertical-align: top;\n",
       "    }\n",
       "\n",
       "    .dataframe thead th {\n",
       "        text-align: right;\n",
       "    }\n",
       "</style>\n",
       "<table border=\"1\" class=\"dataframe\">\n",
       "  <thead>\n",
       "    <tr style=\"text-align: right;\">\n",
       "      <th></th>\n",
       "      <th>age</th>\n",
       "      <th>job</th>\n",
       "      <th>marital</th>\n",
       "      <th>education</th>\n",
       "      <th>default</th>\n",
       "      <th>balance</th>\n",
       "      <th>housing</th>\n",
       "      <th>loan</th>\n",
       "      <th>contact</th>\n",
       "      <th>day</th>\n",
       "      <th>month</th>\n",
       "      <th>duration</th>\n",
       "      <th>campaign</th>\n",
       "      <th>pdays</th>\n",
       "      <th>previous</th>\n",
       "      <th>poutcome</th>\n",
       "      <th>y</th>\n",
       "    </tr>\n",
       "  </thead>\n",
       "  <tbody>\n",
       "    <tr>\n",
       "      <th>0</th>\n",
       "      <td>58</td>\n",
       "      <td>management</td>\n",
       "      <td>married</td>\n",
       "      <td>tertiary</td>\n",
       "      <td>no</td>\n",
       "      <td>2143</td>\n",
       "      <td>yes</td>\n",
       "      <td>no</td>\n",
       "      <td>unknown</td>\n",
       "      <td>5</td>\n",
       "      <td>may</td>\n",
       "      <td>261</td>\n",
       "      <td>1</td>\n",
       "      <td>-1</td>\n",
       "      <td>0</td>\n",
       "      <td>unknown</td>\n",
       "      <td>no</td>\n",
       "    </tr>\n",
       "    <tr>\n",
       "      <th>1</th>\n",
       "      <td>44</td>\n",
       "      <td>technician</td>\n",
       "      <td>single</td>\n",
       "      <td>secondary</td>\n",
       "      <td>no</td>\n",
       "      <td>29</td>\n",
       "      <td>yes</td>\n",
       "      <td>no</td>\n",
       "      <td>unknown</td>\n",
       "      <td>5</td>\n",
       "      <td>may</td>\n",
       "      <td>151</td>\n",
       "      <td>1</td>\n",
       "      <td>-1</td>\n",
       "      <td>0</td>\n",
       "      <td>unknown</td>\n",
       "      <td>no</td>\n",
       "    </tr>\n",
       "    <tr>\n",
       "      <th>2</th>\n",
       "      <td>33</td>\n",
       "      <td>entrepreneur</td>\n",
       "      <td>married</td>\n",
       "      <td>secondary</td>\n",
       "      <td>no</td>\n",
       "      <td>2</td>\n",
       "      <td>yes</td>\n",
       "      <td>yes</td>\n",
       "      <td>unknown</td>\n",
       "      <td>5</td>\n",
       "      <td>may</td>\n",
       "      <td>76</td>\n",
       "      <td>1</td>\n",
       "      <td>-1</td>\n",
       "      <td>0</td>\n",
       "      <td>unknown</td>\n",
       "      <td>no</td>\n",
       "    </tr>\n",
       "    <tr>\n",
       "      <th>3</th>\n",
       "      <td>47</td>\n",
       "      <td>blue-collar</td>\n",
       "      <td>married</td>\n",
       "      <td>unknown</td>\n",
       "      <td>no</td>\n",
       "      <td>1506</td>\n",
       "      <td>yes</td>\n",
       "      <td>no</td>\n",
       "      <td>unknown</td>\n",
       "      <td>5</td>\n",
       "      <td>may</td>\n",
       "      <td>92</td>\n",
       "      <td>1</td>\n",
       "      <td>-1</td>\n",
       "      <td>0</td>\n",
       "      <td>unknown</td>\n",
       "      <td>no</td>\n",
       "    </tr>\n",
       "    <tr>\n",
       "      <th>4</th>\n",
       "      <td>33</td>\n",
       "      <td>unknown</td>\n",
       "      <td>single</td>\n",
       "      <td>unknown</td>\n",
       "      <td>no</td>\n",
       "      <td>1</td>\n",
       "      <td>no</td>\n",
       "      <td>no</td>\n",
       "      <td>unknown</td>\n",
       "      <td>5</td>\n",
       "      <td>may</td>\n",
       "      <td>198</td>\n",
       "      <td>1</td>\n",
       "      <td>-1</td>\n",
       "      <td>0</td>\n",
       "      <td>unknown</td>\n",
       "      <td>no</td>\n",
       "    </tr>\n",
       "    <tr>\n",
       "      <th>...</th>\n",
       "      <td>...</td>\n",
       "      <td>...</td>\n",
       "      <td>...</td>\n",
       "      <td>...</td>\n",
       "      <td>...</td>\n",
       "      <td>...</td>\n",
       "      <td>...</td>\n",
       "      <td>...</td>\n",
       "      <td>...</td>\n",
       "      <td>...</td>\n",
       "      <td>...</td>\n",
       "      <td>...</td>\n",
       "      <td>...</td>\n",
       "      <td>...</td>\n",
       "      <td>...</td>\n",
       "      <td>...</td>\n",
       "      <td>...</td>\n",
       "    </tr>\n",
       "    <tr>\n",
       "      <th>45206</th>\n",
       "      <td>51</td>\n",
       "      <td>technician</td>\n",
       "      <td>married</td>\n",
       "      <td>tertiary</td>\n",
       "      <td>no</td>\n",
       "      <td>825</td>\n",
       "      <td>no</td>\n",
       "      <td>no</td>\n",
       "      <td>cellular</td>\n",
       "      <td>17</td>\n",
       "      <td>nov</td>\n",
       "      <td>977</td>\n",
       "      <td>3</td>\n",
       "      <td>-1</td>\n",
       "      <td>0</td>\n",
       "      <td>unknown</td>\n",
       "      <td>yes</td>\n",
       "    </tr>\n",
       "    <tr>\n",
       "      <th>45207</th>\n",
       "      <td>71</td>\n",
       "      <td>retired</td>\n",
       "      <td>divorced</td>\n",
       "      <td>primary</td>\n",
       "      <td>no</td>\n",
       "      <td>1729</td>\n",
       "      <td>no</td>\n",
       "      <td>no</td>\n",
       "      <td>cellular</td>\n",
       "      <td>17</td>\n",
       "      <td>nov</td>\n",
       "      <td>456</td>\n",
       "      <td>2</td>\n",
       "      <td>-1</td>\n",
       "      <td>0</td>\n",
       "      <td>unknown</td>\n",
       "      <td>yes</td>\n",
       "    </tr>\n",
       "    <tr>\n",
       "      <th>45208</th>\n",
       "      <td>72</td>\n",
       "      <td>retired</td>\n",
       "      <td>married</td>\n",
       "      <td>secondary</td>\n",
       "      <td>no</td>\n",
       "      <td>5715</td>\n",
       "      <td>no</td>\n",
       "      <td>no</td>\n",
       "      <td>cellular</td>\n",
       "      <td>17</td>\n",
       "      <td>nov</td>\n",
       "      <td>1127</td>\n",
       "      <td>5</td>\n",
       "      <td>184</td>\n",
       "      <td>3</td>\n",
       "      <td>success</td>\n",
       "      <td>yes</td>\n",
       "    </tr>\n",
       "    <tr>\n",
       "      <th>45209</th>\n",
       "      <td>57</td>\n",
       "      <td>blue-collar</td>\n",
       "      <td>married</td>\n",
       "      <td>secondary</td>\n",
       "      <td>no</td>\n",
       "      <td>668</td>\n",
       "      <td>no</td>\n",
       "      <td>no</td>\n",
       "      <td>telephone</td>\n",
       "      <td>17</td>\n",
       "      <td>nov</td>\n",
       "      <td>508</td>\n",
       "      <td>4</td>\n",
       "      <td>-1</td>\n",
       "      <td>0</td>\n",
       "      <td>unknown</td>\n",
       "      <td>no</td>\n",
       "    </tr>\n",
       "    <tr>\n",
       "      <th>45210</th>\n",
       "      <td>37</td>\n",
       "      <td>entrepreneur</td>\n",
       "      <td>married</td>\n",
       "      <td>secondary</td>\n",
       "      <td>no</td>\n",
       "      <td>2971</td>\n",
       "      <td>no</td>\n",
       "      <td>no</td>\n",
       "      <td>cellular</td>\n",
       "      <td>17</td>\n",
       "      <td>nov</td>\n",
       "      <td>361</td>\n",
       "      <td>2</td>\n",
       "      <td>188</td>\n",
       "      <td>11</td>\n",
       "      <td>other</td>\n",
       "      <td>no</td>\n",
       "    </tr>\n",
       "  </tbody>\n",
       "</table>\n",
       "<p>45211 rows × 17 columns</p>\n",
       "</div>"
      ],
      "text/plain": [
       "       age           job   marital  education default  balance housing loan  \\\n",
       "0       58    management   married   tertiary      no     2143     yes   no   \n",
       "1       44    technician    single  secondary      no       29     yes   no   \n",
       "2       33  entrepreneur   married  secondary      no        2     yes  yes   \n",
       "3       47   blue-collar   married    unknown      no     1506     yes   no   \n",
       "4       33       unknown    single    unknown      no        1      no   no   \n",
       "...    ...           ...       ...        ...     ...      ...     ...  ...   \n",
       "45206   51    technician   married   tertiary      no      825      no   no   \n",
       "45207   71       retired  divorced    primary      no     1729      no   no   \n",
       "45208   72       retired   married  secondary      no     5715      no   no   \n",
       "45209   57   blue-collar   married  secondary      no      668      no   no   \n",
       "45210   37  entrepreneur   married  secondary      no     2971      no   no   \n",
       "\n",
       "         contact  day month  duration  campaign  pdays  previous poutcome    y  \n",
       "0        unknown    5   may       261         1     -1         0  unknown   no  \n",
       "1        unknown    5   may       151         1     -1         0  unknown   no  \n",
       "2        unknown    5   may        76         1     -1         0  unknown   no  \n",
       "3        unknown    5   may        92         1     -1         0  unknown   no  \n",
       "4        unknown    5   may       198         1     -1         0  unknown   no  \n",
       "...          ...  ...   ...       ...       ...    ...       ...      ...  ...  \n",
       "45206   cellular   17   nov       977         3     -1         0  unknown  yes  \n",
       "45207   cellular   17   nov       456         2     -1         0  unknown  yes  \n",
       "45208   cellular   17   nov      1127         5    184         3  success  yes  \n",
       "45209  telephone   17   nov       508         4     -1         0  unknown   no  \n",
       "45210   cellular   17   nov       361         2    188        11    other   no  \n",
       "\n",
       "[45211 rows x 17 columns]"
      ]
     },
     "execution_count": 2,
     "metadata": {},
     "output_type": "execute_result"
    }
   ],
   "source": [
    "bank = pd.read_csv(\"bank-full.csv\", sep=',')\n",
    "#df is the attributes of people with index as their ids\n",
    "bank"
   ]
  },
  {
   "cell_type": "code",
   "execution_count": 3,
   "id": "825e07fe",
   "metadata": {},
   "outputs": [],
   "source": [
    "fair_column = 'marital'\n",
    "fair_values = ['single','married','divorced']\n",
    "bank = bank[bank[fair_column].isin(fair_values)]"
   ]
  },
  {
   "cell_type": "code",
   "execution_count": 4,
   "id": "06ed69f1",
   "metadata": {},
   "outputs": [
    {
     "name": "stdout",
     "output_type": "stream",
     "text": [
      "\n",
      "Distribution of 'marital' column -  [('married', 27214), ('single', 12790), ('divorced', 5207)]\n"
     ]
    }
   ],
   "source": [
    "fair_counts = sorted(dict(zip(bank[fair_column].value_counts().index, bank[fair_column].value_counts().values)).items(), key=lambda x:x[1], reverse=True)\n",
    "assert len(fair_counts) == 3, \"Fair counts should equal two.\"\n",
    "print(\"\\nDistribution of '%s' column - \"%(fair_column), fair_counts)"
   ]
  },
  {
   "cell_type": "code",
   "execution_count": 5,
   "id": "e7dc5104",
   "metadata": {},
   "outputs": [],
   "source": [
    "outcome = list[bank['y']]\n",
    "bank = bank.drop(['contact','poutcome','y'], axis=1)"
   ]
  },
  {
   "cell_type": "code",
   "execution_count": 6,
   "id": "76ee7dd2",
   "metadata": {},
   "outputs": [],
   "source": [
    "bank['job'] = bank['job'].map(dict(zip(bank.job.unique(),range(1,len(bank.job.unique())+1))))\n",
    "bank['marital'] = bank['marital'].map(dict(zip(bank.marital.unique(),range(0,len(bank.marital.unique())+1))))\n",
    "bank['education'] = bank['education'].map(dict(zip(bank.education.unique(),range(1,len(bank.education.unique())+1))))\n",
    "bank['default'] = bank['default'].map(dict(zip(bank.default.unique(),range(0,len(bank.default.unique())+1))))\n",
    "bank['housing'] = bank['housing'].map(dict(zip(bank.housing.unique(),range(0,len(bank.housing.unique())+1))))\n",
    "bank['loan'] = bank['loan'].map(dict(zip(bank.loan.unique(),range(1,len(bank.loan.unique())+1))))\n",
    "bank['month'] = bank['month'].map(dict(zip(bank.month.unique(),range(1,len(bank.month.unique())+1))))"
   ]
  },
  {
   "cell_type": "code",
   "execution_count": 7,
   "id": "97a362e9",
   "metadata": {},
   "outputs": [
    {
     "data": {
      "text/plain": [
       "(900, 13)"
      ]
     },
     "execution_count": 7,
     "metadata": {},
     "output_type": "execute_result"
    }
   ],
   "source": [
    "random_state = 20\n",
    "split_size = [300,300,300]\n",
    "bank = bank[bank[fair_column]==2].sample(max(split_size),random_state=random_state).append(bank[bank[fair_column]==1].sample(min(split_size), random_state=random_state), ignore_index=True).append(bank[bank[fair_column]==0].sample(min(split_size), random_state=random_state), ignore_index=True)\n",
    "fair_values = list(bank['marital'])\n",
    "bank = bank.drop(['marital'], axis=1)\n",
    "bank.shape"
   ]
  },
  {
   "cell_type": "code",
   "execution_count": 8,
   "id": "1cd3cad6",
   "metadata": {},
   "outputs": [
    {
     "data": {
      "text/plain": [
       "900"
      ]
     },
     "execution_count": 8,
     "metadata": {},
     "output_type": "execute_result"
    }
   ],
   "source": [
    "bank_list = bank.to_numpy()\n",
    "len(bank_list)"
   ]
  },
  {
   "cell_type": "code",
   "execution_count": 9,
   "id": "4f47429f",
   "metadata": {},
   "outputs": [
    {
     "data": {
      "text/plain": [
       "900"
      ]
     },
     "execution_count": 9,
     "metadata": {},
     "output_type": "execute_result"
    }
   ],
   "source": [
    "len(fair_values)"
   ]
  },
  {
   "cell_type": "code",
   "execution_count": 10,
   "id": "58224792",
   "metadata": {},
   "outputs": [],
   "source": [
    "W_knn = knn.get_knn(bank_list, k = 5)"
   ]
  },
  {
   "cell_type": "code",
   "execution_count": 11,
   "id": "8d41e1d8",
   "metadata": {},
   "outputs": [
    {
     "data": {
      "text/plain": [
       "(900, 900)"
      ]
     },
     "execution_count": 11,
     "metadata": {},
     "output_type": "execute_result"
    }
   ],
   "source": [
    "W_knn.shape"
   ]
  },
  {
   "cell_type": "code",
   "execution_count": 12,
   "id": "4f832493",
   "metadata": {},
   "outputs": [],
   "source": [
    "color_map = []\n",
    "for val in fair_values:\n",
    "    if(val == 0):\n",
    "        color_map.append(\"red\")\n",
    "    elif(val == 1):\n",
    "        color_map.append(\"blue\")\n",
    "    elif(val == 2):\n",
    "        color_map.append(\"green\")"
   ]
  },
  {
   "cell_type": "code",
   "execution_count": 13,
   "id": "4fa16af1",
   "metadata": {},
   "outputs": [],
   "source": [
    "def show_graph_with_labels(adjacency_matrix):\n",
    "    rows, cols = np.where(adjacency_matrix > 0)\n",
    "    edges = zip(rows.tolist(), cols.tolist())\n",
    "    gr = nx.Graph()\n",
    "    gr.add_edges_from(edges)\n",
    "    nx.draw(gr, node_size=100, node_color = color_map, with_labels=False)\n",
    "    plt.show()"
   ]
  },
  {
   "cell_type": "code",
   "execution_count": 14,
   "id": "03e1d4cb",
   "metadata": {},
   "outputs": [
    {
     "data": {
      "image/png": "[encoded data removed]",
      "text/plain": [
       "<Figure size 432x288 with 1 Axes>"
      ]
     },
     "metadata": {},
     "output_type": "display_data"
    }
   ],
   "source": [
    "show_graph_with_labels(W_knn)"
   ]
  },
  {
   "cell_type": "code",
   "execution_count": 15,
   "id": "ad82ed00",
   "metadata": {},
   "outputs": [
    {
     "data": {
      "text/plain": [
       "(900, 900)"
      ]
     },
     "execution_count": 15,
     "metadata": {},
     "output_type": "execute_result"
    }
   ],
   "source": [
    "W_knn.shape"
   ]
  },
  {
   "cell_type": "code",
   "execution_count": 16,
   "id": "f40f3a6b",
   "metadata": {},
   "outputs": [
    {
     "data": {
      "text/plain": [
       "(900, 900)"
      ]
     },
     "execution_count": 16,
     "metadata": {},
     "output_type": "execute_result"
    }
   ],
   "source": [
    "# degree matrix\n",
    "D = np.diag(np.sum(W_knn, axis=1))\n",
    "D.shape"
   ]
  },
  {
   "cell_type": "code",
   "execution_count": 17,
   "id": "ef469591",
   "metadata": {},
   "outputs": [
    {
     "name": "stdout",
     "output_type": "stream",
     "text": [
      "laplacian matrix:\n",
      "[[6.49931179 0.         0.         ... 0.         0.         0.        ]\n",
      " [0.         4.99765607 0.         ... 0.         0.         0.        ]\n",
      " [0.         0.         5.49377241 ... 0.         0.         0.        ]\n",
      " ...\n",
      " [0.         0.         0.         ... 5.49159458 0.         0.        ]\n",
      " [0.         0.         0.         ... 0.         4.99968857 0.        ]\n",
      " [0.         0.         0.         ... 0.         0.         4.99934952]]\n"
     ]
    }
   ],
   "source": [
    "# laplacian matrix\n",
    "L = D - W_knn\n",
    "print('laplacian matrix:')\n",
    "print(L)"
   ]
  },
  {
   "cell_type": "code",
   "execution_count": 18,
   "id": "d34fa65c",
   "metadata": {},
   "outputs": [
    {
     "data": {
      "text/plain": [
       "[0.3333333333333333, 0.3333333333333333, 0.3333333333333333]"
      ]
     },
     "execution_count": 18,
     "metadata": {},
     "output_type": "execute_result"
    }
   ],
   "source": [
    "#finding F matrix\n",
    "vsByn=[]\n",
    "for val in set(fair_values):\n",
    "    vsByn.append(fair_values.count(val)/len(fair_values))\n",
    "vsByn"
   ]
  },
  {
   "cell_type": "code",
   "execution_count": 19,
   "id": "18fc1231",
   "metadata": {},
   "outputs": [
    {
     "data": {
      "text/plain": [
       "array([[-0.33333333, -0.33333333, -0.33333333, ...,  0.66666667,\n",
       "         0.66666667,  0.66666667],\n",
       "       [-0.33333333, -0.33333333, -0.33333333, ..., -0.33333333,\n",
       "        -0.33333333, -0.33333333]])"
      ]
     },
     "execution_count": 19,
     "metadata": {},
     "output_type": "execute_result"
    }
   ],
   "source": [
    "#making F matrix of size nx2\n",
    "F=[]\n",
    "for h in range(len(set(fair_values)) - 1):\n",
    "    f = []\n",
    "    for val in fair_values:\n",
    "        if(val == h):\n",
    "            f.append(1 - vsByn[h])\n",
    "        else:\n",
    "            f.append(0 - vsByn[h])\n",
    "    F.append(f)\n",
    "\n",
    "F = np.array(F)\n",
    "F\n",
    "#F = np.array(F)"
   ]
  },
  {
   "cell_type": "code",
   "execution_count": 20,
   "id": "eadc5a98",
   "metadata": {},
   "outputs": [
    {
     "data": {
      "text/plain": [
       "(900, 898)"
      ]
     },
     "execution_count": 20,
     "metadata": {},
     "output_type": "execute_result"
    }
   ],
   "source": [
    "Z = null_space(F)\n",
    "Z.shape"
   ]
  },
  {
   "cell_type": "code",
   "execution_count": 21,
   "id": "89906e75",
   "metadata": {},
   "outputs": [
    {
     "data": {
      "text/plain": [
       "(898, 898)"
      ]
     },
     "execution_count": 21,
     "metadata": {},
     "output_type": "execute_result"
    }
   ],
   "source": [
    "U=Z.T.dot(L).dot(Z)\n",
    "U.shape"
   ]
  },
  {
   "cell_type": "code",
   "execution_count": 22,
   "id": "43081bf2",
   "metadata": {},
   "outputs": [],
   "source": [
    "e, v = np.linalg.eig(U)\n",
    "e = e.real\n",
    "v = v.real\n",
    "res = dict(zip(e, v))\n",
    "eig = dict(sorted(res.items()))\n",
    "del eig[list(eig.keys())[0]]"
   ]
  },
  {
   "cell_type": "code",
   "execution_count": 31,
   "id": "70956e4b",
   "metadata": {},
   "outputs": [
    {
     "data": {
      "text/plain": [
       "(4, 898)"
      ]
     },
     "execution_count": 31,
     "metadata": {},
     "output_type": "execute_result"
    }
   ],
   "source": [
    "Y=[]\n",
    "clusters=4\n",
    "for i in range(clusters):\n",
    "    Y.append(eig[list(eig.keys())[i]])\n",
    "Y=np.array(Y)\n",
    "Y.shape"
   ]
  },
  {
   "cell_type": "code",
   "execution_count": 32,
   "id": "8618bdc1",
   "metadata": {},
   "outputs": [
    {
     "data": {
      "text/plain": [
       "array([[-0.01665883, -0.00948788, -0.03258677,  0.01990216],\n",
       "       [ 0.05133923, -0.03291641,  0.00386398, -0.03336933],\n",
       "       [ 0.00380347, -0.00394669, -0.08885772, -0.0069742 ],\n",
       "       ...,\n",
       "       [ 0.00086302,  0.00037778,  0.00152123, -0.00095762],\n",
       "       [ 0.00090744,  0.00036907,  0.0014897 , -0.00089676],\n",
       "       [ 0.00088307,  0.00037309,  0.00150267, -0.0009336 ]])"
      ]
     },
     "execution_count": 32,
     "metadata": {},
     "output_type": "execute_result"
    }
   ],
   "source": [
    "H=Z.dot(Y.T)\n",
    "H"
   ]
  },
  {
   "cell_type": "code",
   "execution_count": 33,
   "id": "85236b54",
   "metadata": {},
   "outputs": [],
   "source": [
    "#creating a k-means object\n",
    "k_Means_Obj=KMeans(n_clusters=4)\n",
    "import time\n",
    "start = time.time()\n",
    "k_Means_Obj.fit(H)\n",
    "end = time.time()\n",
    "clusters=k_Means_Obj.cluster_centers_"
   ]
  },
  {
   "cell_type": "code",
   "execution_count": 34,
   "id": "beddf31c",
   "metadata": {},
   "outputs": [
    {
     "data": {
      "text/plain": [
       "array([[ 0.01047166, -0.00076417,  0.00367424,  0.00416914],\n",
       "       [-0.00292683,  0.00202045, -0.0558212 ,  0.00179922],\n",
       "       [-0.04361838,  0.01072652,  0.02573522, -0.00250403],\n",
       "       [ 0.00038708, -0.05128567, -0.00399297, -0.10112672]])"
      ]
     },
     "execution_count": 34,
     "metadata": {},
     "output_type": "execute_result"
    }
   ],
   "source": [
    "clusters"
   ]
  },
  {
   "cell_type": "code",
   "execution_count": 35,
   "id": "dd35e15e",
   "metadata": {},
   "outputs": [],
   "source": [
    "final=k_Means_Obj.fit_predict(H)"
   ]
  },
  {
   "cell_type": "code",
   "execution_count": 36,
   "id": "c416d59a",
   "metadata": {},
   "outputs": [
    {
     "data": {
      "text/plain": [
       "array([1, 2, 1, 0, 3, 0, 0, 2, 1, 0, 1, 0, 0, 0, 2, 1, 1, 0, 2, 0, 2, 0,\n",
       "       2, 1, 3, 0, 0, 0, 0, 0, 1, 0, 0, 0, 0, 0, 2, 0, 0, 0, 0, 0, 0, 1,\n",
       "       0, 0, 1, 3, 1, 1, 2, 2, 0, 2, 2, 0, 2, 3, 0, 0, 1, 3, 2, 0, 0, 0,\n",
       "       0, 0, 0, 1, 1, 0, 2, 0, 2, 1, 1, 0, 1, 0, 1, 1, 0, 3, 3, 0, 1, 1,\n",
       "       0, 1, 3, 2, 3, 0, 2, 0, 0, 1, 0, 2, 2, 1, 0, 0, 3, 0, 0, 0, 0, 0,\n",
       "       0, 0, 0, 1, 1, 2, 1, 0, 1, 1, 3, 0, 0, 2, 1, 3, 0, 2, 2, 3, 3, 0,\n",
       "       1, 2, 1, 2, 2, 0, 0, 0, 0, 0, 0, 0, 2, 0, 2, 0, 2, 3, 3, 3, 2, 3,\n",
       "       3, 0, 2, 1, 0, 1, 2, 0, 1, 1, 0, 0, 0, 0, 0, 0, 0, 0, 0, 0, 0, 0,\n",
       "       0, 0, 0, 0, 2, 0, 3, 3, 0, 2, 0, 0, 0, 3, 2, 0, 1, 0, 0, 0, 3, 3,\n",
       "       0, 0, 0, 0, 0, 0, 0, 0, 1, 0, 3, 3, 3, 0, 0, 2, 0, 0, 0, 0, 0, 2,\n",
       "       0, 0, 0, 0, 0, 0, 0, 0, 0, 0, 0, 0, 0, 0, 0, 0, 0, 0, 0, 2, 0, 3,\n",
       "       0, 3, 0, 0, 0, 0, 0, 0, 0, 3, 0, 3, 2, 2, 1, 0, 0, 1, 1, 0, 1, 0,\n",
       "       0, 0, 0, 0, 0, 0, 0, 0, 0, 1, 0, 0, 2, 3, 2, 3, 0, 0, 3, 3, 3, 0,\n",
       "       0, 2, 0, 0, 0, 1, 0, 0, 0, 0, 0, 0, 0, 0, 0, 0, 0, 0, 3, 0, 0, 0,\n",
       "       0, 0, 0, 0, 0, 0, 0, 0, 0, 2, 0, 0, 0, 3, 0, 0, 0, 0, 0, 0, 0, 0,\n",
       "       0, 0, 1, 0, 1, 0, 0, 0, 0, 0, 0, 1, 0, 1, 2, 3, 0, 0, 0, 0, 0, 2,\n",
       "       0, 1, 0, 0, 0, 0, 0, 0, 0, 0, 0, 0, 0, 3, 3, 3, 0, 0, 0, 0, 2, 2,\n",
       "       2, 2, 2, 0, 0, 2, 0, 2, 1, 2, 3, 2, 2, 1, 3, 0, 0, 3, 1, 3, 2, 0,\n",
       "       3, 0, 0, 0, 0, 0, 0, 0, 0, 0, 1, 0, 0, 0, 0, 0, 0, 0, 2, 0, 2, 0,\n",
       "       0, 0, 0, 0, 2, 3, 0, 3, 3, 2, 2, 3, 2, 3, 0, 0, 0, 0, 0, 2, 0, 2,\n",
       "       0, 0, 1, 1, 1, 1, 0, 0, 0, 0, 1, 0, 1, 0, 0, 0, 0, 0, 0, 1, 2, 1,\n",
       "       2, 1, 0, 3, 0, 0, 0, 3, 0, 0, 0, 0, 0, 0, 0, 0, 1, 0, 0, 1, 0, 1,\n",
       "       0, 0, 3, 0, 0, 3, 1, 2, 0, 3, 0, 0, 0, 0, 0, 0, 2, 0, 0, 0, 0, 0,\n",
       "       0, 0, 0, 0, 0, 0, 3, 3, 0, 3, 2, 3, 2, 0, 1, 0, 0, 2, 0, 0, 0, 0,\n",
       "       0, 0, 3, 0, 0, 0, 3, 3, 0, 1, 0, 0, 1, 3, 0, 0, 0, 0, 3, 0, 0, 0,\n",
       "       2, 2, 0, 1, 0, 0, 0, 0, 0, 0, 0, 0, 0, 0, 0, 1, 0, 0, 0, 1, 0, 3,\n",
       "       1, 1, 2, 0, 2, 0, 2, 1, 0, 0, 2, 2, 0, 0, 0, 2, 1, 2, 1, 0, 0, 0,\n",
       "       0, 3, 1, 1, 0, 0, 1, 1, 0, 1, 0, 1, 1, 0, 3, 0, 1, 2, 1, 3, 3, 0,\n",
       "       0, 0, 2, 0, 0, 2, 2, 2, 0, 0, 0, 0, 0, 0, 1, 0, 0, 0, 0, 2, 0, 0,\n",
       "       0, 0, 2, 1, 0, 0, 0, 0, 0, 0, 1, 0, 0, 0, 0, 0, 0, 0, 0, 1, 0, 0,\n",
       "       1, 3, 2, 0, 2, 3, 0, 0, 0, 0, 0, 0, 0, 0, 0, 3, 0, 2, 2, 3, 2, 0,\n",
       "       0, 0, 1, 1, 1, 0, 0, 2, 0, 1, 1, 0, 0, 3, 0, 0, 0, 0, 0, 0, 0, 2,\n",
       "       0, 0, 2, 0, 0, 0, 2, 1, 0, 3, 3, 0, 1, 0, 0, 2, 0, 0, 1, 1, 0, 0,\n",
       "       1, 2, 1, 0, 2, 0, 0, 0, 2, 0, 0, 0, 0, 0, 0, 0, 0, 1, 3, 0, 1, 0,\n",
       "       1, 0, 0, 0, 0, 2, 0, 0, 1, 1, 1, 0, 0, 0, 0, 0, 1, 0, 0, 0, 1, 0,\n",
       "       0, 2, 0, 1, 0, 1, 0, 1, 0, 1, 0, 0, 0, 0, 0, 0, 1, 1, 0, 0, 3, 0,\n",
       "       0, 1, 3, 0, 1, 1, 1, 0, 3, 0, 3, 0, 3, 3, 1, 0, 2, 2, 0, 0, 1, 0,\n",
       "       1, 2, 0, 0, 0, 2, 1, 0, 0, 0, 0, 0, 0, 0, 0, 0, 3, 1, 3, 0, 0, 0,\n",
       "       0, 0, 0, 0, 2, 0, 0, 0, 0, 2, 1, 0, 0, 0, 3, 0, 3, 1, 1, 0, 0, 1,\n",
       "       0, 0, 0, 2, 0, 1, 2, 1, 1, 0, 0, 0, 0, 0, 0, 0, 1, 1, 0, 0, 0, 1,\n",
       "       1, 2, 0, 1, 0, 1, 1, 1, 0, 0, 1, 0, 0, 0, 0, 0, 0, 0, 0, 0])"
      ]
     },
     "execution_count": 36,
     "metadata": {},
     "output_type": "execute_result"
    }
   ],
   "source": [
    "final"
   ]
  },
  {
   "cell_type": "code",
   "execution_count": 37,
   "id": "cec10123",
   "metadata": {},
   "outputs": [],
   "source": [
    "def balance_calc(fair_values,clusters):\n",
    "    k = len(set(clusters))\n",
    "    h = len(set(fair_values))\n",
    "    bal_list = []\n",
    "    for i in range(k):\n",
    "        bal_list.append(np.zeros(len(set(fair_values))))\n",
    "    for index,val in enumerate(clusters):\n",
    "        bal_list[val][fair_values[index]] += 1\n",
    "    balance = 0\n",
    "    for i in range(k):\n",
    "        temp = []\n",
    "        for j in range(h):\n",
    "            for l in range(j+1,h):\n",
    "                p = bal_list[i][j]\n",
    "                q = bal_list[i][l]\n",
    "                if(p == 0 or q == 0):\n",
    "                    temp.append(0)\n",
    "                    temp.append(0)\n",
    "                else:\n",
    "                    temp.append(p/q)\n",
    "                    temp.append(q/p)\n",
    "        balance += min(temp)\n",
    "    balance /= k\n",
    "    return balance\n",
    "        "
   ]
  },
  {
   "cell_type": "code",
   "execution_count": 38,
   "id": "a940ae22",
   "metadata": {},
   "outputs": [
    {
     "name": "stdout",
     "output_type": "stream",
     "text": [
      "0.6928359493719584\n"
     ]
    }
   ],
   "source": [
    "print(balance_calc(fair_values,final))"
   ]
  },
  {
   "cell_type": "code",
   "execution_count": null,
   "id": "e7c939d5",
   "metadata": {},
   "outputs": [],
   "source": []
  },
  {
   "cell_type": "code",
   "execution_count": null,
   "id": "e94faed0",
   "metadata": {},
   "outputs": [],
   "source": []
  }
 ],
 "metadata": {
  "kernelspec": {
   "display_name": "Python 3 (ipykernel)",
   "language": "python",
   "name": "python3"
  },
  "language_info": {
   "codemirror_mode": {
    "name": "ipython",
    "version": 3
   },
   "file_extension": ".py",
   "mimetype": "text/x-python",
   "name": "python",
   "nbconvert_exporter": "python",
   "pygments_lexer": "ipython3",
   "version": "3.9.7"
  }
 },
 "nbformat": 4,
 "nbformat_minor": 5
}
