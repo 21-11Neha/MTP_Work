{
 "cells": [
  {
   "cell_type": "code",
   "execution_count": 5,
   "id": "44536b9e",
   "metadata": {},
   "outputs": [],
   "source": [
    "#import important libraries\n",
    "import numpy as np\n",
    "import matplotlib.pyplot as plt\n",
    "from sklearn.datasets import make_blobs\n",
    "import pandas as pd\n",
    "from sklearn.cluster import SpectralClustering"
   ]
  },
  {
   "cell_type": "code",
   "execution_count": 13,
   "id": "e499f2a5",
   "metadata": {},
   "outputs": [],
   "source": [
    "#dataset=pd.read_csv(\"urbanGB.csv\")\n",
    "from numpy import genfromtxt\n",
    "dataset = genfromtxt('urbanGB.csv', delimiter=',', skip_header = 1)"
   ]
  },
  {
   "cell_type": "code",
   "execution_count": 14,
   "id": "8dd2840d",
   "metadata": {},
   "outputs": [
    {
     "data": {
      "text/plain": [
       "array([[-3.11255 , 55.8706  ],\n",
       "       [-0.088533, 51.3806  ],\n",
       "       [-0.326795, 51.4476  ],\n",
       "       ...,\n",
       "       [-0.128844, 51.5126  ],\n",
       "       [-1.88564 , 52.449   ],\n",
       "       [-4.05597 , 55.8215  ]])"
      ]
     },
     "execution_count": 14,
     "metadata": {},
     "output_type": "execute_result"
    }
   ],
   "source": [
    "dataset"
   ]
  },
  {
   "cell_type": "code",
   "execution_count": 30,
   "id": "75960743",
   "metadata": {},
   "outputs": [],
   "source": [
    "spectral_dataset=[]\n",
    "for n in range(5000):\n",
    "    spectral_dataset.append(dataset[n])"
   ]
  },
  {
   "cell_type": "code",
   "execution_count": 31,
   "id": "e54aa853",
   "metadata": {},
   "outputs": [
    {
     "data": {
      "text/plain": [
       "5000"
      ]
     },
     "execution_count": 31,
     "metadata": {},
     "output_type": "execute_result"
    }
   ],
   "source": [
    "len(spectral_dataset)"
   ]
  },
  {
   "cell_type": "code",
   "execution_count": 35,
   "id": "c532dee3",
   "metadata": {},
   "outputs": [],
   "source": [
    "spectral_model_rbf = SpectralClustering(n_clusters = 4, affinity ='rbf')"
   ]
  },
  {
   "cell_type": "code",
   "execution_count": 36,
   "id": "4546cb89",
   "metadata": {},
   "outputs": [],
   "source": [
    "# Training the model and Storing the predicted cluster labels\n",
    "labels_rbf = spectral_model_rbf.fit_predict(spectral_dataset)"
   ]
  },
  {
   "cell_type": "code",
   "execution_count": 38,
   "id": "db3c5861",
   "metadata": {},
   "outputs": [
    {
     "data": {
      "text/plain": [
       "array([-3.11255, 55.8706 ])"
      ]
     },
     "execution_count": 38,
     "metadata": {},
     "output_type": "execute_result"
    }
   ],
   "source": [
    "labels_rbf"
   ]
  },
  {
   "cell_type": "code",
   "execution_count": 43,
   "id": "69e7de08",
   "metadata": {},
   "outputs": [],
   "source": [
    "final_sc=labels_rbf\n",
    "s_dataset=np.array(spectral_dataset)"
   ]
  },
  {
   "cell_type": "code",
   "execution_count": 44,
   "id": "593fd9e2",
   "metadata": {},
   "outputs": [
    {
     "data": {
      "text/plain": [
       "array([[-3.11255 , 55.8706  ],\n",
       "       [-0.088533, 51.3806  ],\n",
       "       [-0.326795, 51.4476  ],\n",
       "       ...,\n",
       "       [-4.20631 , 55.7643  ],\n",
       "       [-0.442182, 52.147   ],\n",
       "       [-1.29577 , 52.9623  ]])"
      ]
     },
     "execution_count": 44,
     "metadata": {},
     "output_type": "execute_result"
    }
   ],
   "source": [
    "s_dataset"
   ]
  },
  {
   "cell_type": "code",
   "execution_count": 45,
   "id": "2494caf0",
   "metadata": {},
   "outputs": [
    {
     "data": {
      "text/plain": [
       "<matplotlib.collections.PathCollection at 0x237b12e7190>"
      ]
     },
     "execution_count": 45,
     "metadata": {},
     "output_type": "execute_result"
    },
    {
     "data": {
      "image/png": "[encoded data removed]",
      "text/plain": [
       "<Figure size 432x288 with 1 Axes>"
      ]
     },
     "metadata": {
      "needs_background": "light"
     },
     "output_type": "display_data"
    }
   ],
   "source": [
    "plt.scatter(s_dataset[final_sc==0,0],s_dataset[final_sc==0,1],color='red')\n",
    "plt.scatter(s_dataset[final_sc==1,0],s_dataset[final_sc==1,1],color='blue')\n",
    "plt.scatter(s_dataset[final_sc==2,0],s_dataset[final_sc==2,1],color='yellow')\n",
    "plt.scatter(s_dataset[final_sc==3,0],s_dataset[final_sc==3,1],color='green')"
   ]
  }
 ],
 "metadata": {
  "kernelspec": {
   "display_name": "Python 3 (ipykernel)",
   "language": "python",
   "name": "python3"
  },
  "language_info": {
   "codemirror_mode": {
    "name": "ipython",
    "version": 3
   },
   "file_extension": ".py",
   "mimetype": "text/x-python",
   "name": "python",
   "nbconvert_exporter": "python",
   "pygments_lexer": "ipython3",
   "version": "3.9.7"
  }
 },
 "nbformat": 4,
 "nbformat_minor": 5
}
